{
 "cells": [
  {
   "cell_type": "markdown",
   "metadata": {},
   "source": [
    "# <p style=\"text-align: center;\">4.Preprocessing</p>"
   ]
  },
  {
   "cell_type": "markdown",
   "metadata": {},
   "source": [
    "<h1 style = \"color:Brown;display:inline\">Aim:   </h1>\n",
    "<h3 style = \"display:inline\">To demonstrate import, preprocess and split the datasets using scikit-learn.</h3>"
   ]
  },
  {
   "cell_type": "markdown",
   "metadata": {},
   "source": [
    "<h1 style = \"color:Brown\">Objectives</h1>\n",
    "\n",
    "### 1. Loading data.\n",
    "### 2. Checking for missing values.\n",
    "### 3. Splitting the data in to train set and test set.\n",
    "\n",
    "\n"
   ]
  },
  {
   "cell_type": "markdown",
   "metadata": {},
   "source": [
    "<h2 style = \"color:green\">Loading Data</h2>"
   ]
  },
  {
   "cell_type": "code",
   "execution_count": 1,
   "id": "645b2554",
   "metadata": {},
   "outputs": [
    {
     "name": "stdout",
     "output_type": "stream",
     "text": [
      "<class 'pandas.core.frame.DataFrame'>\n",
      "(10000, 7)\n",
      "   CreditScore  Age  Tenure    Balance  HasCrCard     Salary  Exited\n",
      "0          619   42       2       0.00          1  101348.88       1\n",
      "1          608   41       1   83807.86          0  112542.58       0\n",
      "2          502   42       8  159660.80          1  113931.57       1\n",
      "3          699   39       1       0.00          0   93826.63       0\n",
      "4          850   43       2  125510.82          1   79084.10       0\n"
     ]
    }
   ],
   "source": [
    "# Load the data from external flat file - use pandas.read_csv() or pandas.read_excel()\n",
    "import pandas as pd\n",
    "df1 = pd.read_csv(\"Churn-Modelling.csv\")\n",
    "print(type(df1))\n",
    "print(df1.shape)\n",
    "print(df1.head())"
   ]
  },
  {
   "cell_type": "code",
   "execution_count": 2,
   "id": "31fef1ba",
   "metadata": {},
   "outputs": [
    {
     "name": "stdout",
     "output_type": "stream",
     "text": [
      "<class 'sklearn.utils.Bunch'>\n",
      "(150, 4)\n",
      "<class 'numpy.ndarray'>\n",
      "[[5.1 3.5 1.4 0.2]\n",
      " [4.9 3.  1.4 0.2]\n",
      " [4.7 3.2 1.3 0.2]\n",
      " [4.6 3.1 1.5 0.2]\n",
      " [5.  3.6 1.4 0.2]]\n",
      "['sepal length (cm)', 'sepal width (cm)', 'petal length (cm)', 'petal width (cm)']\n",
      "<class 'numpy.ndarray'>\n",
      "[0 0 0 0 0]\n",
      "[2 2 2 2 2]\n",
      "['setosa' 'versicolor' 'virginica']\n"
     ]
    }
   ],
   "source": [
    "# Load the data from sklearn.datasets - load_iris(), load_diabetes(), load_digits(), load_linnerud(), load_wine(), load_breast_cancer()\n",
    "from sklearn.datasets import load_iris\n",
    "ds = load_iris()\n",
    "print(type(ds))\n",
    "\n",
    "x = ds.data\n",
    "print(x.shape)\n",
    "print(type(x))\n",
    "print(x[0:5])\n",
    "print(ds.feature_names)\n",
    "\n",
    "y = ds.target\n",
    "print(type(y))\n",
    "print(y[0:5])\n",
    "print(y[145:150])\n",
    "print(ds.target_names)"
   ]
  },
  {
   "cell_type": "code",
   "execution_count": 3,
   "id": "4fafea05",
   "metadata": {},
   "outputs": [
    {
     "name": "stdout",
     "output_type": "stream",
     "text": [
      "<class 'numpy.ndarray'>\n",
      "[[4.6 3.1 1.5 0.2]\n",
      " [5.  3.6 1.4 0.2]]\n",
      "(150, 4)\n",
      "<class 'numpy.ndarray'>\n",
      "(150,)\n",
      "[0 0 0 0 0]\n"
     ]
    }
   ],
   "source": [
    "# loading the data as input and output separetly as ndobject\n",
    "# Parameter return_X_y=True returns the data set as separate input and output numpy arrays\n",
    "X, y = load_iris(return_X_y = True) \n",
    "\n",
    "print(type(X))\n",
    "print(X[3:5])\n",
    "print(X.shape)\n",
    "\n",
    "print(type(y))\n",
    "print(y.shape)\n",
    "print(y[5:10])"
   ]
  },
  {
   "cell_type": "code",
   "execution_count": 12,
   "id": "adb88418",
   "metadata": {},
   "outputs": [
    {
     "name": "stdout",
     "output_type": "stream",
     "text": [
      "<class 'pandas.core.frame.DataFrame'>\n",
      "   sepal length (cm)  sepal width (cm)  petal length (cm)  petal width (cm)\n",
      "0                5.1               3.5                1.4               0.2\n",
      "1                4.9               3.0                1.4               0.2\n",
      "2                4.7               3.2                1.3               0.2\n",
      "3                4.6               3.1                1.5               0.2\n",
      "4                5.0               3.6                1.4               0.2\n",
      "<class 'pandas.core.series.Series'>\n",
      "0    0\n",
      "1    0\n",
      "2    0\n",
      "Name: target, dtype: int32\n"
     ]
    }
   ],
   "source": [
    "# Parameter as_frame=True returns the data as a dataframe.\n",
    "X, y = load_iris(return_X_y = True , as_frame =True) \n",
    "\n",
    "print(type(X))\n",
    "print(X[0:5])\n",
    "\n",
    "print(type(y))\n",
    "print(y[0:3])"
   ]
  },
  {
   "cell_type": "markdown",
   "id": "7edda0a1",
   "metadata": {},
   "source": [
    "<h2 style = \"color:green\">pandas.isna(object)</h2>\n",
    "\n",
    "### Detects missing values.\n",
    "### Returns a boolen object of same size.\n",
    "### None and np.NaN are mapped True values. Everything else gets mapped to False values."
   ]
  },
  {
   "cell_type": "code",
   "execution_count": 13,
   "id": "2705ceec",
   "metadata": {},
   "outputs": [
    {
     "data": {
      "text/plain": [
       "CreditScore    0\n",
       "Age            0\n",
       "Tenure         0\n",
       "Balance        0\n",
       "HasCrCard      0\n",
       "Salary         0\n",
       "Exited         0\n",
       "dtype: int64"
      ]
     },
     "execution_count": 13,
     "metadata": {},
     "output_type": "execute_result"
    }
   ],
   "source": [
    "df1.isna().sum()"
   ]
  },
  {
   "cell_type": "code",
   "execution_count": 16,
   "id": "6fd5e9f8",
   "metadata": {},
   "outputs": [
    {
     "name": "stdout",
     "output_type": "stream",
     "text": [
      "   CreditScore  Age  Tenure   Balance  HasCrCard     Salary\n",
      "0          619   42       2      0.00          1  101348.88\n",
      "1          608   41       1  83807.86          0  112542.58\n",
      "0    1\n",
      "1    0\n",
      "2    1\n",
      "3    0\n",
      "4    0\n",
      "Name: Exited, dtype: int64\n"
     ]
    }
   ],
   "source": [
    "x = df1.drop(\"Exited\", axis = 1)\n",
    "y = df1[\"Exited\"]\n",
    "print(x.head(2))\n",
    "print(y.head())"
   ]
  },
  {
   "cell_type": "markdown",
   "id": "61c96027",
   "metadata": {},
   "source": [
    "<h2 style = \"color:green\">x_train, x_test, y_tran, y_test = train_test_split(x, y, test_size)</h2>\n",
    "\n",
    "### Defined in sklearn.model_selection\n",
    "### test_size attribute decides the proportion of split"
   ]
  },
  {
   "cell_type": "code",
   "execution_count": 15,
   "id": "0c56e82e",
   "metadata": {},
   "outputs": [
    {
     "name": "stdout",
     "output_type": "stream",
     "text": [
      "Traing dataset input shapes: (8000, 6)\n",
      "Traing dataset output shapes: (8000,)\n",
      "Testing dataset input shapes: (2000, 6)\n",
      "Testing dataset output shapes: (2000,)\n"
     ]
    }
   ],
   "source": [
    "# Split the data\n",
    "from sklearn.model_selection import train_test_split\n",
    "x_train, x_test, y_train, y_test = train_test_split(x, y, test_size=0.2)\n",
    "\n",
    "print(\"Traing dataset input shapes:\", x_train.shape)\n",
    "print(\"Traing dataset output shapes:\", y_train.shape)\n",
    "print(\"Testing dataset input shapes:\", x_test.shape)\n",
    "print(\"Testing dataset output shapes:\", y_test.shape)"
   ]
  },
  {
   "cell_type": "markdown",
   "metadata": {},
   "source": [
    "<h2 style = \"color:Brown;display:inline\">Conclusion:   </h2>\n",
    "<h3 style = \"display:inline\">\n",
    "Hence from this Experiment, I've understood loading, preprocessing, and splitting datasets using scikit-learn, crucial for machine learning model Building and evaluation.\n",
    "</h3>"
   ]
  }
 ],
 "metadata": {
  "kernelspec": {
   "display_name": "Python 3",
   "language": "python",
   "name": "python3"
  },
  "language_info": {
   "codemirror_mode": {
    "name": "ipython",
    "version": 3
   },
   "file_extension": ".py",
   "mimetype": "text/x-python",
   "name": "python",
   "nbconvert_exporter": "python",
   "pygments_lexer": "ipython3",
   "version": "3.7.3"
  }
 },
 "nbformat": 4,
 "nbformat_minor": 5
}
