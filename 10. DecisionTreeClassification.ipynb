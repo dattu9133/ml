{
 "cells": [
  {
   "cell_type": "markdown",
   "id": "3cd6ba11",
   "metadata": {},
   "source": [
    "# <p style=\"text-align: center;\">9. Decision Tree Classification</p>"
   ]
  },
  {
   "cell_type": "markdown",
   "id": "0ada4fc7",
   "metadata": {},
   "source": [
    "<h2 style = \"color:Brown;display:inline\">Aim:   </h2>\n",
    "<h3 style = \"display:inline\">\n",
    "To demonstrate the process of the Decision Tree construction for classification problems using python programming.\n",
    "</h3>"
   ]
  },
  {
   "cell_type": "markdown",
   "id": "f6cad169",
   "metadata": {},
   "source": [
    "## Step 1: Import the wine dataset and split it into training and testing parts"
   ]
  },
  {
   "cell_type": "code",
   "execution_count": 13,
   "id": "dd100e76",
   "metadata": {},
   "outputs": [
    {
     "name": "stdout",
     "output_type": "stream",
     "text": [
      "Feature Names: ['alcohol', 'malic_acid', 'ash', 'alcalinity_of_ash', 'magnesium', 'total_phenols', 'flavanoids', 'nonflavanoid_phenols', 'proanthocyanins', 'color_intensity', 'hue', 'od280/od315_of_diluted_wines', 'proline']\n",
      "Target Names: ['class_0' 'class_1' 'class_2']\n"
     ]
    }
   ],
   "source": [
    "from sklearn.datasets import load_wine\n",
    "dataset = load_wine()\n",
    "print(\"Feature Names:\",dataset.feature_names)\n",
    "print(\"Target Names:\",dataset.target_names)"
   ]
  },
  {
   "cell_type": "code",
   "execution_count": 14,
   "id": "84acc2b7",
   "metadata": {},
   "outputs": [
    {
     "name": "stdout",
     "output_type": "stream",
     "text": [
      "Dataset Input shape: (178, 13)\n",
      "Dataset Output shape: (178,)\n"
     ]
    }
   ],
   "source": [
    "x = dataset.data\n",
    "y = dataset.target\n",
    "print(\"Dataset Input shape:\",x.shape)\n",
    "print(\"Dataset Output shape:\",y.shape)"
   ]
  },
  {
   "cell_type": "code",
   "execution_count": 15,
   "id": "1eef94c0",
   "metadata": {},
   "outputs": [
    {
     "name": "stdout",
     "output_type": "stream",
     "text": [
      "('Training Data Input Shape:', (151, 13))\n",
      "('Training Data Output Shape:', (151,))\n",
      "('Test Data Input Shape:', (27, 13))\n",
      "('Test Data Output Shape:', (27,))\n"
     ]
    }
   ],
   "source": [
    "from sklearn.model_selection import train_test_split\n",
    "\n",
    "x_train, x_test, y_train, y_test = train_test_split(x,y\n",
    "                                                    ,random_state = 40\n",
    "                                                    ,test_size = 0.15 )\n",
    "print((\"Training Data Input Shape:\",x_train.shape))\n",
    "print((\"Training Data Output Shape:\",y_train.shape))\n",
    "print((\"Test Data Input Shape:\",x_test.shape))\n",
    "print((\"Test Data Output Shape:\",y_test.shape))"
   ]
  },
  {
   "cell_type": "markdown",
   "id": "8c254be0",
   "metadata": {},
   "source": [
    "## Step 2: Build the tree\n",
    "### Import the class *DecisionTreeClassifier* from sklearn.tree module.\n",
    "#### We can use parameter *croterion* to set the metric for the split. Possible metrics are 'gini' (default), 'entropy' or 'log_loss'."
   ]
  },
  {
   "cell_type": "code",
   "execution_count": 16,
   "id": "d5070396",
   "metadata": {},
   "outputs": [
    {
     "data": {
      "text/plain": [
       "DecisionTreeClassifier()"
      ]
     },
     "execution_count": 16,
     "metadata": {},
     "output_type": "execute_result"
    }
   ],
   "source": [
    "from sklearn.tree import DecisionTreeClassifier\n",
    "\n",
    "tree1 = DecisionTreeClassifier()\n",
    "tree1.fit(x_train, y_train)"
   ]
  },
  {
   "cell_type": "code",
   "execution_count": 17,
   "id": "de7b2bb8",
   "metadata": {},
   "outputs": [
    {
     "data": {
      "text/plain": [
       "DecisionTreeClassifier(criterion='entropy')"
      ]
     },
     "execution_count": 17,
     "metadata": {},
     "output_type": "execute_result"
    }
   ],
   "source": [
    "tree2 = DecisionTreeClassifier(criterion = 'entropy')\n",
    "tree2.fit(x_train, y_train)"
   ]
  },
  {
   "cell_type": "markdown",
   "id": "741622ab",
   "metadata": {},
   "source": [
    "## Step 3: Evaluate the performance of the tree\n",
    "\n",
    "--> Compute both Training Accuracy and Test Accuracy to check overfitting"
   ]
  },
  {
   "cell_type": "code",
   "execution_count": 18,
   "id": "285b2f11",
   "metadata": {},
   "outputs": [
    {
     "name": "stdout",
     "output_type": "stream",
     "text": [
      "Training Accuracy: 1.0\n",
      "Testing Accuracy: 0.9259259259259259\n"
     ]
    }
   ],
   "source": [
    "from sklearn.metrics import accuracy_score\n",
    "\n",
    "training_accuracy = accuracy_score(y_train, tree1.predict(x_train))\n",
    "test_accuracy = accuracy_score(y_test, tree1.predict(x_test))                               \n",
    "print(\"Training Accuracy:\", training_accuracy)\n",
    "print(\"Testing Accuracy:\", test_accuracy)"
   ]
  },
  {
   "cell_type": "code",
   "execution_count": 19,
   "id": "5040d054",
   "metadata": {},
   "outputs": [
    {
     "name": "stdout",
     "output_type": "stream",
     "text": [
      "Training Accuracy: 1.0\n",
      "Testing Accuracy: 0.9629629629629629\n"
     ]
    }
   ],
   "source": [
    "training_accuracy2 = accuracy_score(y_train, tree2.predict(x_train))\n",
    "test_accuracy2 = accuracy_score(y_test, tree2.predict(x_test))                               \n",
    "print(\"Training Accuracy:\", training_accuracy2)\n",
    "print(\"Testing Accuracy:\", test_accuracy2)"
   ]
  },
  {
   "cell_type": "markdown",
   "id": "08e5c8e0",
   "metadata": {},
   "source": [
    "## Step 4: Visualize the tree\n",
    "### Visual tree can be generated using *sklearn.tree.export_graphviz(tree, out_file, class_names, feature_names, impurity, filled)* function. Which return a .dot file with the reqired graph. "
   ]
  },
  {
   "cell_type": "code",
   "execution_count": 20,
   "id": "af1e80d6",
   "metadata": {},
   "outputs": [
    {
     "data": {
      "text/plain": [
       "[Text(0.375, 0.875, 'color_intensity <= 3.46\\ngini = 0.656\\nsamples = 151\\nvalue = [49, 62, 40]\\nclass = class_1'),\n",
       " Text(0.25, 0.625, 'gini = 0.0\\nsamples = 49\\nvalue = [0, 49, 0]\\nclass = class_1'),\n",
       " Text(0.5, 0.625, 'flavanoids <= 1.58\\ngini = 0.599\\nsamples = 102\\nvalue = [49, 13, 40]\\nclass = class_0'),\n",
       " Text(0.25, 0.375, 'hue <= 0.945\\ngini = 0.13\\nsamples = 43\\nvalue = [0, 3, 40]\\nclass = class_2'),\n",
       " Text(0.125, 0.125, 'gini = 0.0\\nsamples = 40\\nvalue = [0, 0, 40]\\nclass = class_2'),\n",
       " Text(0.375, 0.125, 'gini = 0.0\\nsamples = 3\\nvalue = [0, 3, 0]\\nclass = class_1'),\n",
       " Text(0.75, 0.375, 'proline <= 679.0\\ngini = 0.282\\nsamples = 59\\nvalue = [49, 10, 0]\\nclass = class_0'),\n",
       " Text(0.625, 0.125, 'gini = 0.0\\nsamples = 10\\nvalue = [0, 10, 0]\\nclass = class_1'),\n",
       " Text(0.875, 0.125, 'gini = 0.0\\nsamples = 49\\nvalue = [49, 0, 0]\\nclass = class_0')]"
      ]
     },
     "execution_count": 20,
     "metadata": {},
     "output_type": "execute_result"
    },
    {
     "data": {
      "image/png": "[encoded data removed]",
      "text/plain": [
       "<Figure size 432x288 with 1 Axes>"
      ]
     },
     "metadata": {
      "needs_background": "light"
     },
     "output_type": "display_data"
    }
   ],
   "source": [
    "from sklearn.tree import plot_tree\n",
    "\n",
    "plot_tree(tree1, class_names = dataset.target_names,\n",
    "               feature_names = dataset.feature_names,impurity = True,\n",
    "               filled = True)"
   ]
  },
  {
   "cell_type": "markdown",
   "id": "2f067ee3",
   "metadata": {},
   "source": [
    "## Step 5: Handle the overfitting by limiting the depth\n",
    "### Use *max_depth* parameter with DecisionTreeClassifier() to limit the depth"
   ]
  },
  {
   "cell_type": "code",
   "execution_count": 21,
   "id": "3fa383ba",
   "metadata": {},
   "outputs": [
    {
     "name": "stdout",
     "output_type": "stream",
     "text": [
      "Training Accuracy: 1.0\n",
      "Test Accuracy: 1.0\n"
     ]
    }
   ],
   "source": [
    "tree1 = DecisionTreeClassifier(criterion=\"entropy\",max_depth=4)\n",
    "tree1.fit(x_train,y_train)\n",
    "print(\"Training Accuracy:\", accuracy_score(y_train,tree1.predict(x_train)))\n",
    "print(\"Test Accuracy:\", accuracy_score(y_test, tree1.predict(x_test)))"
   ]
  },
  {
   "cell_type": "code",
   "execution_count": 22,
   "id": "339ad628",
   "metadata": {},
   "outputs": [
    {
     "data": {
      "text/plain": [
       "[Text(0.4230769230769231, 0.9, 'flavanoids <= 1.575\\nentropy = 1.562\\nsamples = 151\\nvalue = [49, 62, 40]\\nclass = class_1'),\n",
       " Text(0.15384615384615385, 0.7, 'color_intensity <= 3.825\\nentropy = 0.804\\nsamples = 53\\nvalue = [0, 13, 40]\\nclass = class_2'),\n",
       " Text(0.07692307692307693, 0.5, 'entropy = 0.0\\nsamples = 12\\nvalue = [0, 12, 0]\\nclass = class_1'),\n",
       " Text(0.23076923076923078, 0.5, 'ash <= 2.06\\nentropy = 0.165\\nsamples = 41\\nvalue = [0, 1, 40]\\nclass = class_2'),\n",
       " Text(0.15384615384615385, 0.3, 'entropy = 0.0\\nsamples = 1\\nvalue = [0, 1, 0]\\nclass = class_1'),\n",
       " Text(0.3076923076923077, 0.3, 'entropy = 0.0\\nsamples = 40\\nvalue = [0, 0, 40]\\nclass = class_2'),\n",
       " Text(0.6923076923076923, 0.7, 'proline <= 722.5\\nentropy = 1.0\\nsamples = 98\\nvalue = [49, 49, 0]\\nclass = class_0'),\n",
       " Text(0.5384615384615384, 0.5, 'magnesium <= 102.5\\nentropy = 0.151\\nsamples = 46\\nvalue = [1, 45, 0]\\nclass = class_1'),\n",
       " Text(0.46153846153846156, 0.3, 'entropy = 0.0\\nsamples = 42\\nvalue = [0, 42, 0]\\nclass = class_1'),\n",
       " Text(0.6153846153846154, 0.3, 'malic_acid <= 3.86\\nentropy = 0.811\\nsamples = 4\\nvalue = [1, 3, 0]\\nclass = class_1'),\n",
       " Text(0.5384615384615384, 0.1, 'entropy = 0.0\\nsamples = 3\\nvalue = [0, 3, 0]\\nclass = class_1'),\n",
       " Text(0.6923076923076923, 0.1, 'entropy = 0.0\\nsamples = 1\\nvalue = [1, 0, 0]\\nclass = class_0'),\n",
       " Text(0.8461538461538461, 0.5, 'color_intensity <= 3.46\\nentropy = 0.391\\nsamples = 52\\nvalue = [48, 4, 0]\\nclass = class_0'),\n",
       " Text(0.7692307692307693, 0.3, 'entropy = 0.0\\nsamples = 4\\nvalue = [0, 4, 0]\\nclass = class_1'),\n",
       " Text(0.9230769230769231, 0.3, 'entropy = 0.0\\nsamples = 48\\nvalue = [48, 0, 0]\\nclass = class_0')]"
      ]
     },
     "execution_count": 22,
     "metadata": {},
     "output_type": "execute_result"
    },
    {
     "data": {
      "image/png": "[encoded data removed]",
      "text/plain": [
       "<Figure size 432x288 with 1 Axes>"
      ]
     },
     "metadata": {
      "needs_background": "light"
     },
     "output_type": "display_data"
    }
   ],
   "source": [
    "from sklearn.tree import plot_tree\n",
    "plot_tree(tree1, class_names=dataset.target_names, feature_names=dataset.feature_names, impurity=True, filled=True)"
   ]
  },
  {
   "cell_type": "markdown",
   "id": "88d5430a",
   "metadata": {},
   "source": [
    "<h2 style = \"color:Brown;display:inline\">Conclusion:   </h2>\n",
    "<h3 style = \"display:inline\">\n",
    "Hence, I demonstrated the process of constructing a Decision Tree for classification problems using Python programming.\n",
    "</h3>"
   ]
  }
 ],
 "metadata": {
  "kernelspec": {
   "display_name": "Python 3",
   "language": "python",
   "name": "python3"
  },
  "language_info": {
   "codemirror_mode": {
    "name": "ipython",
    "version": 3
   },
   "file_extension": ".py",
   "mimetype": "text/x-python",
   "name": "python",
   "nbconvert_exporter": "python",
   "pygments_lexer": "ipython3",
   "version": "3.7.3"
  }
 },
 "nbformat": 4,
 "nbformat_minor": 5
}
