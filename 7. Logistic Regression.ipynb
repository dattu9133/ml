{
 "cells": [
  {
   "cell_type": "markdown",
   "id": "f6382b7b",
   "metadata": {},
   "source": [
    "# <p style=\"text-align: center;\">6. Logistic Regression</p>"
   ]
  },
  {
   "cell_type": "markdown",
   "id": "ad7a8cd2",
   "metadata": {},
   "source": [
    "<h2 style = \"color:Brown;display:inline\">Aim:   </h2>\n",
    "<h3 style = \"display:inline\">\n",
    "To implement a Logistic Regression algorithm for binary classification using Python Programming.\n",
    "</h3>"
   ]
  },
  {
   "cell_type": "markdown",
   "id": "80acde5b",
   "metadata": {},
   "source": [
    "### Step 1: Load the data set, Check if any missing vaues and split it into train & test sets."
   ]
  },
  {
   "cell_type": "code",
   "execution_count": 14,
   "id": "bc5cc3d5",
   "metadata": {},
   "outputs": [
    {
     "name": "stdout",
     "output_type": "stream",
     "text": [
      "Feature Names :  ['mean radius' 'mean texture' 'mean perimeter' 'mean area'\n",
      " 'mean smoothness' 'mean compactness' 'mean concavity'\n",
      " 'mean concave points' 'mean symmetry' 'mean fractal dimension'\n",
      " 'radius error' 'texture error' 'perimeter error' 'area error'\n",
      " 'smoothness error' 'compactness error' 'concavity error'\n",
      " 'concave points error' 'symmetry error' 'fractal dimension error'\n",
      " 'worst radius' 'worst texture' 'worst perimeter' 'worst area'\n",
      " 'worst smoothness' 'worst compactness' 'worst concavity'\n",
      " 'worst concave points' 'worst symmetry' 'worst fractal dimension']\n",
      "Target Class Names :  ['malignant' 'benign']\n"
     ]
    }
   ],
   "source": [
    "from sklearn.datasets import load_breast_cancer\n",
    "\n",
    "ds = load_breast_cancer()\n",
    "print(\"Feature Names : \", ds.feature_names)\n",
    "print(\"Target Class Names : \", ds.target_names)"
   ]
  },
  {
   "cell_type": "code",
   "execution_count": 15,
   "id": "adf9c2bc",
   "metadata": {},
   "outputs": [
    {
     "name": "stdout",
     "output_type": "stream",
     "text": [
      "Input Shape (569, 30)\n",
      "Output Shape (569,)\n"
     ]
    }
   ],
   "source": [
    "import pandas as pd\n",
    "x = ds.data\n",
    "y = ds.target\n",
    "print(\"Input Shape\", x.shape)\n",
    "print(\"Output Shape\", y.shape)\n",
    "\n",
    "# pd.DataFrame(x).isna().sum()"
   ]
  },
  {
   "cell_type": "markdown",
   "id": "8c7bafa6",
   "metadata": {},
   "source": [
    "### Step 2: Build the model"
   ]
  },
  {
   "cell_type": "markdown",
   "id": "d31302db",
   "metadata": {},
   "source": [
    "#### sklearn.linear_model.LogisticRegression class can be used to cleate model object\n",
    "\n",
    "fit() method can be used to train the model\n",
    "\n",
    "predict() method can be used to predict the outputs for unseen data "
   ]
  },
  {
   "cell_type": "code",
   "execution_count": 16,
   "id": "d2726ab1",
   "metadata": {},
   "outputs": [
    {
     "name": "stdout",
     "output_type": "stream",
     "text": [
      "(455, 30)\n",
      "(455,)\n",
      "(114, 30)\n",
      "(114,)\n"
     ]
    }
   ],
   "source": [
    "from sklearn.model_selection import train_test_split\n",
    "x_train, x_test, y_train, y_test = train_test_split(x, y, random_state = 40, test_size=0.2)\n",
    "\n",
    "print(x_train.shape)\n",
    "print(y_train.shape)\n",
    "print(x_test.shape)\n",
    "print(y_test.shape)"
   ]
  },
  {
   "cell_type": "code",
   "execution_count": 17,
   "id": "a7107d75",
   "metadata": {},
   "outputs": [
    {
     "name": "stderr",
     "output_type": "stream",
     "text": [
      "c:\\ProgramData\\Anaconda3\\lib\\site-packages\\sklearn\\linear_model\\_logistic.py:818: ConvergenceWarning: lbfgs failed to converge (status=1):\n",
      "STOP: TOTAL NO. of ITERATIONS REACHED LIMIT.\n",
      "\n",
      "Increase the number of iterations (max_iter) or scale the data as shown in:\n",
      "    https://scikit-learn.org/stable/modules/preprocessing.html\n",
      "Please also refer to the documentation for alternative solver options:\n",
      "    https://scikit-learn.org/stable/modules/linear_model.html#logistic-regression\n",
      "  extra_warning_msg=_LOGISTIC_SOLVER_CONVERGENCE_MSG,\n"
     ]
    },
    {
     "data": {
      "text/plain": [
       "LogisticRegression()"
      ]
     },
     "execution_count": 17,
     "metadata": {},
     "output_type": "execute_result"
    }
   ],
   "source": [
    "from sklearn.linear_model import LogisticRegression\n",
    "modelllr = LogisticRegression()\n",
    "\n",
    "modelllr.fit(x_train,y_train)"
   ]
  },
  {
   "cell_type": "markdown",
   "id": "4ea493bd",
   "metadata": {},
   "source": [
    "### Step 3: Test the model performance\n",
    "\n",
    "we can import various metrics(confusion_matrix, accuracy_score, recall_score, precision_score, f1_score) from sklearn.metrics\n",
    "\n"
   ]
  },
  {
   "cell_type": "code",
   "execution_count": 18,
   "id": "01c6a10f",
   "metadata": {},
   "outputs": [],
   "source": [
    "from sklearn.metrics import confusion_matrix, accuracy_score, recall_score, precision_score, f1_score"
   ]
  },
  {
   "cell_type": "code",
   "execution_count": 19,
   "id": "1e427407",
   "metadata": {},
   "outputs": [
    {
     "name": "stdout",
     "output_type": "stream",
     "text": [
      "[[36  3]\n",
      " [ 4 71]]\n",
      "Accuracy: 0.9385964912280702\n",
      "Recall Score: 0.9466666666666667\n",
      "Precision Score: 0.9594594594594594\n",
      "F1-Score: 0.9530201342281879\n"
     ]
    }
   ],
   "source": [
    "from sklearn.metrics import confusion_matrix,accuracy_score,recall_score,f1_score,precision_score\n",
    "\n",
    "y_pred=modelllr.predict(x_test)\n",
    "\n",
    "cm=confusion_matrix(y_test,y_pred)\n",
    "print(cm)\n",
    "print(\"Accuracy:\",accuracy_score(y_test,y_pred))\n",
    "print(\"Recall Score:\",recall_score(y_test,y_pred))\n",
    "print(\"Precision Score:\",precision_score(y_test,y_pred))\n",
    "print(\"F1-Score:\",f1_score(y_test,y_pred))\n"
   ]
  },
  {
   "cell_type": "markdown",
   "id": "cc7dc5e6",
   "metadata": {},
   "source": [
    "<h2 style = \"color:Brown;display:inline\">Conclusion:   </h2>\n",
    "<h3 style = \"display:inline\">\n",
    "Hence, I successfully implemented a Logistic Regression algorithm for binary classification using the breast cancer dataset.\n",
    "</h3>"
   ]
  }
 ],
 "metadata": {
  "kernelspec": {
   "display_name": "Python 3",
   "language": "python",
   "name": "python3"
  },
  "language_info": {
   "codemirror_mode": {
    "name": "ipython",
    "version": 3
   },
   "file_extension": ".py",
   "mimetype": "text/x-python",
   "name": "python",
   "nbconvert_exporter": "python",
   "pygments_lexer": "ipython3",
   "version": "3.7.3"
  }
 },
 "nbformat": 4,
 "nbformat_minor": 5
}
