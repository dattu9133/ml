{
 "cells": [
  {
   "cell_type": "markdown",
   "id": "1f918182",
   "metadata": {},
   "source": [
    "# <p style=\"text-align: center;\">8. SVM Classification</p>"
   ]
  },
  {
   "cell_type": "markdown",
   "id": "b5878383",
   "metadata": {},
   "source": [
    "<h2 style = \"color:Brown;display:inline\">Aim:   </h2>\n",
    "<h3 style = \"display:inline\">\n",
    "To construct an SVM classifier using python programming\n",
    "</h3>"
   ]
  },
  {
   "cell_type": "markdown",
   "id": "aafc87ee",
   "metadata": {},
   "source": [
    "## Step 1: Import the digits dataset from sklearn and split it into train and test sets."
   ]
  },
  {
   "cell_type": "markdown",
   "id": "384bcce0",
   "metadata": {},
   "source": [
    "### Digits dataset in sklearn.datasets:\n",
    "\n",
    "This dataset is made up of 1797 8x8 images. \n",
    "* Number of classes: 10 --> 0, 1, 2, 3, 4, 5, 6, 7, 8, 9\n",
    "* Number of samples: 1797\n",
    "* Number of features: 64\n",
    "* Each sample represents the 64 pixel values of a 8x8 image.\n",
    "* Range of each pixel value is 0 - 16."
   ]
  },
  {
   "cell_type": "code",
   "execution_count": 2,
   "id": "30f92121",
   "metadata": {
    "scrolled": true
   },
   "outputs": [
    {
     "name": "stdout",
     "output_type": "stream",
     "text": [
      "Feature Names:\n",
      "['pixel_0_0', 'pixel_0_1', 'pixel_0_2', 'pixel_0_3', 'pixel_0_4', 'pixel_0_5', 'pixel_0_6', 'pixel_0_7', 'pixel_1_0', 'pixel_1_1', 'pixel_1_2', 'pixel_1_3', 'pixel_1_4', 'pixel_1_5', 'pixel_1_6', 'pixel_1_7', 'pixel_2_0', 'pixel_2_1', 'pixel_2_2', 'pixel_2_3', 'pixel_2_4', 'pixel_2_5', 'pixel_2_6', 'pixel_2_7', 'pixel_3_0', 'pixel_3_1', 'pixel_3_2', 'pixel_3_3', 'pixel_3_4', 'pixel_3_5', 'pixel_3_6', 'pixel_3_7', 'pixel_4_0', 'pixel_4_1', 'pixel_4_2', 'pixel_4_3', 'pixel_4_4', 'pixel_4_5', 'pixel_4_6', 'pixel_4_7', 'pixel_5_0', 'pixel_5_1', 'pixel_5_2', 'pixel_5_3', 'pixel_5_4', 'pixel_5_5', 'pixel_5_6', 'pixel_5_7', 'pixel_6_0', 'pixel_6_1', 'pixel_6_2', 'pixel_6_3', 'pixel_6_4', 'pixel_6_5', 'pixel_6_6', 'pixel_6_7', 'pixel_7_0', 'pixel_7_1', 'pixel_7_2', 'pixel_7_3', 'pixel_7_4', 'pixel_7_5', 'pixel_7_6', 'pixel_7_7']\n",
      "Target Names:\n",
      "[0 1 2 3 4 5 6 7 8 9]\n"
     ]
    }
   ],
   "source": [
    "from sklearn.datasets import load_digits\n",
    "dataset = load_digits()\n",
    "print(\"Feature Names:\")\n",
    "print(dataset.feature_names)\n",
    "print(\"Target Names:\")\n",
    "print(dataset.target_names)"
   ]
  },
  {
   "cell_type": "code",
   "execution_count": 3,
   "id": "7d452ba6",
   "metadata": {},
   "outputs": [
    {
     "name": "stdout",
     "output_type": "stream",
     "text": [
      "Dataset Input shape: (1797, 64)\n",
      "Dataset Output shape: (1797,)\n"
     ]
    }
   ],
   "source": [
    "x = dataset.data\n",
    "y = dataset.target\n",
    "print(\"Dataset Input shape:\",x.shape)\n",
    "print(\"Dataset Output shape:\",y.shape)"
   ]
  },
  {
   "cell_type": "code",
   "execution_count": 19,
   "id": "add97471",
   "metadata": {},
   "outputs": [
    {
     "data": {
      "image/png": "[encoded data removed]",
      "text/plain": [
       "<Figure size 432x288 with 1 Axes>"
      ]
     },
     "metadata": {
      "needs_background": "light"
     },
     "output_type": "display_data"
    },
    {
     "name": "stdout",
     "output_type": "stream",
     "text": [
      "Label: 2\n"
     ]
    }
   ],
   "source": [
    "import matplotlib.pyplot as plt\n",
    "img = x[2].reshape((8, 8))\n",
    "plt.imshow(img, cmap = \"gray\")\n",
    "plt.show()\n",
    "print(\"Label:\",y[2])"
   ]
  },
  {
   "cell_type": "markdown",
   "id": "6567dd97",
   "metadata": {},
   "source": [
    "## Step 2: Build the model"
   ]
  },
  {
   "cell_type": "markdown",
   "id": "0eba7045",
   "metadata": {},
   "source": [
    "* Import the class SVC from sklearn.svm module\n",
    "* Create a model objet using SVC class\n",
    "* Use fit method to train the model with training dataset."
   ]
  },
  {
   "cell_type": "code",
   "execution_count": 5,
   "id": "c1e53ed5",
   "metadata": {},
   "outputs": [
    {
     "name": "stdout",
     "output_type": "stream",
     "text": [
      "('Training Data Input Shape:', (1437, 64))\n",
      "('Training Data Output Shape:', (1437,))\n",
      "('Test Data Input Shape:', (360, 64))\n",
      "('Test Data Output Shape:', (360,))\n"
     ]
    }
   ],
   "source": [
    "from sklearn.model_selection import train_test_split\n",
    "x_train, x_test, y_train, y_test = train_test_split(x, y, random_state = 40,\n",
    "                                                    test_size = 0.2)\n",
    "print((\"Training Data Input Shape:\",x_train.shape))\n",
    "print((\"Training Data Output Shape:\",y_train.shape))\n",
    "print((\"Test Data Input Shape:\",x_test.shape))\n",
    "print((\"Test Data Output Shape:\",y_test.shape))"
   ]
  },
  {
   "cell_type": "code",
   "execution_count": 6,
   "id": "aa507d51",
   "metadata": {},
   "outputs": [
    {
     "data": {
      "text/plain": [
       "SVC()"
      ]
     },
     "execution_count": 6,
     "metadata": {},
     "output_type": "execute_result"
    }
   ],
   "source": [
    "from sklearn.svm import SVC\n",
    "model = SVC()\n",
    "model.fit(x_train, y_train)"
   ]
  },
  {
   "cell_type": "markdown",
   "id": "44ba7600",
   "metadata": {},
   "source": [
    "## Step 3: Test and Evaluate the model."
   ]
  },
  {
   "cell_type": "markdown",
   "id": "00d56d7c",
   "metadata": {},
   "source": [
    "* Use predict method to predict the class for unseen data samples.\n",
    "* Import accuracy_score function from sklearn.metrics module for evaluation"
   ]
  },
  {
   "cell_type": "code",
   "execution_count": 7,
   "id": "d2f79394",
   "metadata": {},
   "outputs": [],
   "source": [
    "y_pred = model.predict(x_test)"
   ]
  },
  {
   "cell_type": "code",
   "execution_count": 8,
   "id": "13d791c1",
   "metadata": {},
   "outputs": [
    {
     "name": "stdout",
     "output_type": "stream",
     "text": [
      "Confusion matrix:\n",
      " [[30  0  0  0  0  0  0  0  0  0]\n",
      " [ 0 47  0  0  0  0  0  0  0  0]\n",
      " [ 0  0 38  0  0  0  0  0  0  0]\n",
      " [ 0  0  0 34  0  0  0  0  0  0]\n",
      " [ 0  0  0  0 38  0  0  0  0  0]\n",
      " [ 0  0  0  0  0 28  0  0  0  0]\n",
      " [ 0  0  0  0  0  0 34  0  0  0]\n",
      " [ 0  0  0  0  0  0  0 35  0  0]\n",
      " [ 0  2  0  0  0  0  0  0 34  0]\n",
      " [ 0  0  0  0  0  0  0  0  1 39]]\n",
      "Accuracy: 0.9916666666666667\n"
     ]
    }
   ],
   "source": [
    "from sklearn.metrics import accuracy_score, confusion_matrix\n",
    "cm = confusion_matrix(y_test, y_pred)\n",
    "print('Confusion matrix:\\n',cm)\n",
    "print(\"Accuracy:\", (accuracy_score(y_test, y_pred)))"
   ]
  },
  {
   "cell_type": "markdown",
   "id": "d23cb66b",
   "metadata": {},
   "source": [
    "## Step 4: Evaluate the model with different kernels"
   ]
  },
  {
   "cell_type": "markdown",
   "id": "d347fc89",
   "metadata": {},
   "source": [
    "* SVC class takes a parameter kernel which can take one of linear / poly / rbf / sigmoid.\n",
    "* rbf (Radial Basis Function) is the default value."
   ]
  },
  {
   "cell_type": "code",
   "execution_count": 9,
   "id": "2a32d4ab",
   "metadata": {},
   "outputs": [
    {
     "name": "stdout",
     "output_type": "stream",
     "text": [
      "Accuracy: 0.9777777777777777\n"
     ]
    }
   ],
   "source": [
    "svm = SVC(kernel = \"linear\")\n",
    "svm.fit(x_train, y_train)\n",
    "y_pred = svm.predict(x_test)\n",
    "print(\"Accuracy:\", accuracy_score(y_test, y_pred))"
   ]
  },
  {
   "cell_type": "code",
   "execution_count": 10,
   "id": "bd149d51",
   "metadata": {},
   "outputs": [
    {
     "name": "stdout",
     "output_type": "stream",
     "text": [
      "Accuracy: 0.9972222222222222\n"
     ]
    }
   ],
   "source": [
    "svm = SVC(kernel = \"poly\")\n",
    "svm.fit(x_train, y_train)\n",
    "y_pred = svm.predict(x_test)\n",
    "print(\"Accuracy:\", accuracy_score(y_test, y_pred))"
   ]
  },
  {
   "cell_type": "code",
   "execution_count": 11,
   "id": "db2457fa",
   "metadata": {},
   "outputs": [
    {
     "name": "stdout",
     "output_type": "stream",
     "text": [
      "Accuracy: 0.9916666666666667\n"
     ]
    }
   ],
   "source": [
    "svm = SVC(kernel = \"rbf\")\n",
    "svm.fit(x_train, y_train)\n",
    "y_pred = svm.predict(x_test)\n",
    "print(\"Accuracy:\", accuracy_score(y_test, y_pred))"
   ]
  },
  {
   "cell_type": "code",
   "execution_count": 12,
   "id": "7afc773c",
   "metadata": {},
   "outputs": [
    {
     "name": "stdout",
     "output_type": "stream",
     "text": [
      "Accuracy: 0.9027777777777778\n"
     ]
    }
   ],
   "source": [
    "svm = SVC(kernel = \"sigmoid\")\n",
    "svm.fit(x_train, y_train)\n",
    "y_pred = svm.predict(x_test)\n",
    "print(\"Accuracy:\", accuracy_score(y_test, y_pred))"
   ]
  },
  {
   "cell_type": "markdown",
   "id": "0f31a3e8",
   "metadata": {},
   "source": [
    "<h2 style = \"color:Brown;display:inline\">Conclusion:   </h2>\n",
    "<h3 style = \"display:inline\">\n",
    "Hence, I successfully constructed an SVM classifier using Python programming.\n",
    "</h3>"
   ]
  }
 ],
 "metadata": {
  "kernelspec": {
   "display_name": "Python 3",
   "language": "python",
   "name": "python3"
  },
  "language_info": {
   "codemirror_mode": {
    "name": "ipython",
    "version": 3
   },
   "file_extension": ".py",
   "mimetype": "text/x-python",
   "name": "python",
   "nbconvert_exporter": "python",
   "pygments_lexer": "ipython3",
   "version": "3.7.3"
  }
 },
 "nbformat": 4,
 "nbformat_minor": 5
}
