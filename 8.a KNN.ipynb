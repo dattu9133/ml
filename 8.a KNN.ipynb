{
 "cells": [
  {
   "cell_type": "markdown",
   "metadata": {},
   "source": [
    "# <p style=\"text-align: center;\">7a. KNN ALGORITHM</p>"
   ]
  },
  {
   "cell_type": "markdown",
   "metadata": {},
   "source": [
    "<h2 style = \"color:Brown;display:inline\">Aim:   </h2>\n",
    "<h3 style = \"display:inline\">\n",
    "To implement the KNN algorithm for classification using Python Programming.\n",
    "</h3>"
   ]
  },
  {
   "cell_type": "markdown",
   "metadata": {},
   "source": [
    "## Step 1: Load breast cancer dataset from sklean and split it as train and test sets."
   ]
  },
  {
   "cell_type": "markdown",
   "metadata": {},
   "source": [
    "### sklearn.datasets.load_breast_cancer()\n",
    "\n",
    "--> Number of classes: 2 ['malignant', 'benign']\n",
    "\n",
    "--> Total samples: 569 ['malignant' 212, 'benign' 357]\n",
    "\n",
    "--> Dimensionality: 30\n",
    "\n",
    "**Returns dictionary-like Bunch object with following attributes**\n",
    "\n",
    "--> data: The ndarray of input data samples with a shape (569, 30)\n",
    "\n",
    "--> target: The ndarray of classification target with a shape (569, )\n",
    "\n",
    "--> feature_names: List of feature names\n",
    "\n",
    "--> target_names: List of target class names\n",
    "\n"
   ]
  },
  {
   "cell_type": "code",
   "execution_count": 7,
   "id": "f1974aca",
   "metadata": {},
   "outputs": [],
   "source": [
    "from sklearn.datasets import load_breast_cancer"
   ]
  },
  {
   "cell_type": "code",
   "execution_count": 8,
   "id": "ab4cdcbd",
   "metadata": {},
   "outputs": [
    {
     "name": "stdout",
     "output_type": "stream",
     "text": [
      "Feature Names :  ['mean radius' 'mean texture' 'mean perimeter' 'mean area'\n",
      " 'mean smoothness' 'mean compactness' 'mean concavity'\n",
      " 'mean concave points' 'mean symmetry' 'mean fractal dimension'\n",
      " 'radius error' 'texture error' 'perimeter error' 'area error'\n",
      " 'smoothness error' 'compactness error' 'concavity error'\n",
      " 'concave points error' 'symmetry error' 'fractal dimension error'\n",
      " 'worst radius' 'worst texture' 'worst perimeter' 'worst area'\n",
      " 'worst smoothness' 'worst compactness' 'worst concavity'\n",
      " 'worst concave points' 'worst symmetry' 'worst fractal dimension']\n",
      "Target Class Names :  ['malignant' 'benign']\n",
      "Input Shape (569, 30)\n",
      "Output Shape (569,)\n"
     ]
    }
   ],
   "source": [
    "# Step 1: Load breast cancer dataset from sklearn and split it into train and test sets\n",
    "data = load_breast_cancer()\n",
    "print(\"Feature Names : \", data.feature_names)\n",
    "print(\"Target Class Names : \", data.target_names)\n",
    "\n",
    "X = data.data\n",
    "y = data.target\n",
    "\n",
    "print(\"Input Shape\", X.shape)\n",
    "print(\"Output Shape\", y.shape)"
   ]
  },
  {
   "cell_type": "code",
   "execution_count": 9,
   "id": "e3748d4e",
   "metadata": {},
   "outputs": [
    {
     "name": "stdout",
     "output_type": "stream",
     "text": [
      "(455, 30)\n",
      "(455,)\n",
      "(114, 30)\n",
      "(114,)\n"
     ]
    }
   ],
   "source": [
    "from sklearn.model_selection import train_test_split\n",
    "\n",
    "X_train, X_test, y_train, y_test = train_test_split(X, y, random_state = 40, test_size=0.2)\n",
    "\n",
    "print(\"Traing dataset input shapes:\", x_train.shape)\n",
    "print(\"Traing dataset output shapes:\", y_train.shape)\n",
    "print(\"Testing dataset input shapes:\", x_test.shape)\n",
    "print(\"Testing dataset output shapes:\", y_test.shape)"
   ]
  },
  {
   "cell_type": "markdown",
   "id": "727c2ac1",
   "metadata": {},
   "source": [
    "## Step 2: Build the model\n",
    "\n",
    "### Import KNearestClassifier from sklearn.neighbors\n",
    "--> Object creation: model = KNeighborsClassifier(n_neighbors) "
   ]
  },
  {
   "cell_type": "code",
   "execution_count": 10,
   "id": "e12f472d",
   "metadata": {},
   "outputs": [],
   "source": [
    "from sklearn.neighbors import KNeighborsClassifier\n",
    "n_neighbors = 15  # You can set the number of neighbors here\n",
    "model = KNeighborsClassifier(n_neighbors=n_neighbors)"
   ]
  },
  {
   "cell_type": "code",
   "execution_count": 11,
   "id": "298113ae",
   "metadata": {},
   "outputs": [
    {
     "data": {
      "text/plain": [
       "KNeighborsClassifier(n_neighbors=15)"
      ]
     },
     "execution_count": 11,
     "metadata": {},
     "output_type": "execute_result"
    }
   ],
   "source": [
    "model.fit(X_train, y_train)"
   ]
  },
  {
   "cell_type": "markdown",
   "id": "4412af69",
   "metadata": {},
   "source": [
    "## Step 3: Test the model\n",
    "### We can import confusion_matrix, accuracy_score, recall_score, precision_score, f1_score functions from sklearn.metrics"
   ]
  },
  {
   "cell_type": "code",
   "execution_count": 12,
   "id": "a53457b1",
   "metadata": {},
   "outputs": [
    {
     "name": "stdout",
     "output_type": "stream",
     "text": [
      "Confusion Matrix:\n",
      " [[34  5]\n",
      " [ 4 71]]\n",
      "Accuracy: 0.9210526315789473\n",
      "Recall: 0.9466666666666667\n",
      "Precision: 0.9342105263157895\n",
      "F1 Score: 0.9403973509933775\n"
     ]
    }
   ],
   "source": [
    "# Step 4: Test the model\n",
    "y_pred = model.predict(X_test)\n",
    "\n",
    "from sklearn.metrics import confusion_matrix, accuracy_score, recall_score, precision_score, f1_score\n",
    "# Step 5: Evaluate the model\n",
    "conf_matrix = confusion_matrix(y_test, y_pred)\n",
    "accuracy = accuracy_score(y_test, y_pred)\n",
    "recall = recall_score(y_test, y_pred)\n",
    "precision = precision_score(y_test, y_pred)\n",
    "f1 = f1_score(y_test, y_pred)\n",
    "\n",
    "print(\"Confusion Matrix:\\n\", conf_matrix)\n",
    "print(\"Accuracy:\", accuracy)\n",
    "print(\"Recall:\", recall)\n",
    "print(\"Precision:\", precision) \n",
    "print(\"F1 Score:\", f1)\n"
   ]
  },
  {
   "cell_type": "markdown",
   "metadata": {},
   "source": [
    "<h2 style = \"color:Brown;display:inline\">Conclusion:   </h2>\n",
    "<h3 style = \"display:inline\">\n",
    "Hence, I've gained a comprehensive understanding of implementing the KNN algorithm for classification tasks using Python.\n",
    "</h3>"
   ]
  }
 ],
 "metadata": {
  "kernelspec": {
   "display_name": "Python 3",
   "language": "python",
   "name": "python3"
  },
  "language_info": {
   "codemirror_mode": {
    "name": "ipython",
    "version": 3
   },
   "file_extension": ".py",
   "mimetype": "text/x-python",
   "name": "python",
   "nbconvert_exporter": "python",
   "pygments_lexer": "ipython3",
   "version": "3.7.3"
  }
 },
 "nbformat": 4,
 "nbformat_minor": 5
}
