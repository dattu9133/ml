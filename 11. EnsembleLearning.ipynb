{
 "cells": [
  {
   "cell_type": "markdown",
   "metadata": {},
   "source": [
    "# <p style=\"text-align: center;\">10. Ensemble Learning</p>"
   ]
  },
  {
   "cell_type": "markdown",
   "metadata": {},
   "source": [
    "<h2 style = \"color:Brown;display:inline\">Aim:   </h2>\n",
    "<h3 style = \"display:inline\">\n",
    "To implement an Ensemble Learner using Decision Tree, Random Forest and AdaBoost models using python programming.\n",
    "</h3>"
   ]
  },
  {
   "cell_type": "markdown",
   "metadata": {},
   "source": [
    "## Step 1: Load the breast_cancer dataset from sklearn.datasets using load_breast_cancer class and split it into traing and testing subsets."
   ]
  },
  {
   "cell_type": "code",
   "execution_count": 14,
   "metadata": {},
   "outputs": [],
   "source": [
    "from sklearn.datasets import load_breast_cancer\n",
    "from sklearn.model_selection import train_test_split\n",
    "\n",
    "dataset = load_breast_cancer()\n",
    "\n",
    "x=dataset.data\n",
    "y=dataset.target\n",
    "\n",
    "x_train, x_test, y_train, y_test = train_test_split(x, y, random_state = 40 ,test_size = 0.2)"
   ]
  },
  {
   "cell_type": "markdown",
   "metadata": {},
   "source": [
    "## Step 2: Build the Decision Tree, Random Forest and AdaBoost models\n",
    "\n",
    "--> Import DecisionTreeClassifier from sklearn.tree module\n",
    "\n",
    "--> Import RandomForestClassifier and AdaBoostClassifier classes from sklearn.ensemble module.\n",
    "\n",
    "--> We can use n_estimators parameter while creating models to change the default number of 10 weak models."
   ]
  },
  {
   "cell_type": "code",
   "execution_count": 15,
   "metadata": {},
   "outputs": [
    {
     "name": "stdout",
     "output_type": "stream",
     "text": [
      "DecisionTreeClassifier(criterion='entropy')\n",
      "RandomForestClassifier(n_estimators=5)\n"
     ]
    },
    {
     "data": {
      "text/plain": [
       "AdaBoostClassifier(n_estimators=5)"
      ]
     },
     "execution_count": 15,
     "metadata": {},
     "output_type": "execute_result"
    }
   ],
   "source": [
    "from sklearn.tree import DecisionTreeClassifier\n",
    "from sklearn.ensemble import RandomForestClassifier, AdaBoostClassifier\n",
    "\n",
    "tree1 = DecisionTreeClassifier(criterion = 'entropy')\n",
    "print(tree1.fit(x_train, y_train))\n",
    "\n",
    "RfModel = RandomForestClassifier(n_estimators = 5)\n",
    "print(RfModel.fit(x_train, y_train))\n",
    "adModel = AdaBoostClassifier(n_estimators = 5)\n",
    "adModel.fit(x_train, y_train)"
   ]
  },
  {
   "cell_type": "markdown",
   "metadata": {},
   "source": [
    "## Step 3: Compare the performance of all three models\n",
    "\n",
    "--> Import accuracy_score from sklearn.metrics module.\n",
    "\n",
    "--> Compute both Traing and Test accuracies to observe any overfitting."
   ]
  },
  {
   "cell_type": "code",
   "execution_count": 16,
   "metadata": {},
   "outputs": [
    {
     "name": "stdout",
     "output_type": "stream",
     "text": [
      "Training Accuracy of Decision Tree: 1.0\n",
      "Training Accuracy of Random Forest Model: 0.9912087912087912\n",
      "Training Accuracy of AdaBoost Model: 0.9582417582417583\n"
     ]
    }
   ],
   "source": [
    "from sklearn.metrics import accuracy_score\n",
    "\n",
    "tree_train_acc = accuracy_score(y_train, tree1.predict(x_train))\n",
    "Rfmodel_train_acc = accuracy_score(y_train, RfModel.predict(x_train))\n",
    "adModel_train_acc = accuracy_score(y_train, adModel.predict(x_train))\n",
    "\n",
    "print(\"Training Accuracy of Decision Tree:\", tree_train_acc)\n",
    "print(\"Training Accuracy of Random Forest Model:\", Rfmodel_train_acc)\n",
    "print(\"Training Accuracy of AdaBoost Model:\", adModel_train_acc)"
   ]
  },
  {
   "cell_type": "code",
   "execution_count": 17,
   "metadata": {},
   "outputs": [
    {
     "name": "stdout",
     "output_type": "stream",
     "text": [
      "Tesing Accuracy of Decision Tree: 0.9122807017543859\n",
      "Testing Accuracy of Random Forest Model: 0.956140350877193\n",
      "Testing Accuracy of AdaBoost Model: 0.9210526315789473\n"
     ]
    }
   ],
   "source": [
    "tree_test_acc = accuracy_score(y_test, tree1.predict(x_test))\n",
    "Rfmodel_test_acc = accuracy_score(y_test, RfModel.predict(x_test))\n",
    "adModel_test_acc = accuracy_score(y_test, adModel.predict(x_test))\n",
    "\n",
    "print(\"Tesing Accuracy of Decision Tree:\", tree_test_acc)\n",
    "print(\"Testing Accuracy of Random Forest Model:\", Rfmodel_test_acc)\n",
    "print(\"Testing Accuracy of AdaBoost Model:\", adModel_test_acc)"
   ]
  },
  {
   "cell_type": "markdown",
   "metadata": {},
   "source": [
    "<h2 style = \"color:Brown;display:inline\">Conclusion:   </h2>\n",
    "<h3 style = \"display:inline\">\n",
    "Hence, I implemented an Ensemble Learner using Decision Tree, Random Forest, and AdaBoost models in Python programming.\n",
    "</h3>"
   ]
  }
 ],
 "metadata": {
  "kernelspec": {
   "display_name": "Python 3",
   "language": "python",
   "name": "python3"
  },
  "language_info": {
   "codemirror_mode": {
    "name": "ipython",
    "version": 3
   },
   "file_extension": ".py",
   "mimetype": "text/x-python",
   "name": "python",
   "nbconvert_exporter": "python",
   "pygments_lexer": "ipython3",
   "version": "3.7.3"
  }
 },
 "nbformat": 4,
 "nbformat_minor": 2
}
