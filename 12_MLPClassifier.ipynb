{
  "cells": [
    {
      "cell_type": "markdown",
      "id": "e72e6574",
      "metadata": {},
      "source": [
        "# <p style=\"text-align: center;\">11. MLP Classifier</p>"
      ]
    },
    {
      "cell_type": "markdown",
      "id": "776a15c9",
      "metadata": {},
      "source": [
        "<h2 style = \"color:Brown;display:inline\">Aim:   </h2>\n",
        "<h3 style = \"display:inline\">\n",
        "To demonstrate the working of Multi-layer perceptron with MLPClassifier() using Python programming.\n",
        "</h3>"
      ]
    },
    {
      "cell_type": "markdown",
      "id": "36f67e9c",
      "metadata": {
        "id": "36f67e9c"
      },
      "source": [
        "## Step 1: Import the iris dataset using load_iris class from sklearn.datasets and split it into training and testing subsets"
      ]
    },
    {
      "cell_type": "code",
      "execution_count": 32,
      "id": "581c6a19",
      "metadata": {
        "id": "581c6a19"
      },
      "outputs": [
        {
          "name": "stdout",
          "output_type": "stream",
          "text": [
            "<class 'pandas.core.frame.DataFrame'>\n",
            "(58, 5)\n",
            "                Timestamp         Name  Height in Feet  Weight in KGs Gender\n",
            "0 2023-11-15 15:25:36.653       Sunny             5.11             76      M\n",
            "1 2023-11-15 15:26:10.979          Abc            5.40             53      F\n",
            "2 2023-11-15 15:26:24.689          Gvs            5.40             54      F\n",
            "3 2023-11-15 15:26:25.053  J Narasimha            6.10             93      M\n",
            "4 2023-11-15 15:26:26.174     Ram babu            5.70             92      M\n"
          ]
        }
      ],
      "source": [
        "# Load the data from external flat file - use pandas.read_csv() or pandas.read_excel()\n",
        "import pandas as pd\n",
        "df = pd.read_excel(\"B-Data.xlsx\")\n",
        "print(type(df))\n",
        "print(df.shape)\n",
        "print(df.head())\n"
      ]
    },
    {
      "cell_type": "code",
      "execution_count": 33,
      "id": "2f60cd2b",
      "metadata": {},
      "outputs": [
        {
          "name": "stdout",
          "output_type": "stream",
          "text": [
            "    Height in Feet  Weight in KGs\n",
            "0             5.11             76\n",
            "1             5.40             53\n",
            "2             5.40             54\n",
            "3             6.10             93\n",
            "4             5.70             92\n",
            "5             5.20             54\n",
            "6             5.10             55\n",
            "7             5.50             90\n",
            "8             5.70             83\n",
            "9             5.50             80\n",
            "10            5.50             58\n",
            "11            5.90             65\n",
            "12            5.60             62\n",
            "13            5.90             69\n",
            "14            6.00             80\n",
            "15            5.00             38\n",
            "16            5.00             65\n",
            "17            5.70             55\n",
            "18            5.00             45\n",
            "19            5.30             55\n",
            "20            5.70             56\n",
            "21            5.90             68\n",
            "22            5.80             85\n",
            "23            5.10             41\n",
            "24            5.70             71\n",
            "25            5.30             52\n",
            "26            5.20             50\n",
            "27            5.00             34\n",
            "28            5.80             56\n",
            "29            5.20             53\n",
            "30            6.20             48\n",
            "31            5.40             47\n",
            "32            5.00             42\n",
            "33            4.00             40\n",
            "34            5.10             64\n",
            "35            5.20             65\n",
            "36            6.00             75\n",
            "37            5.50             51\n",
            "38            5.00             35\n",
            "39            5.10             45\n",
            "40            5.60             58\n",
            "41            5.10             40\n",
            "42            6.00             75\n",
            "43            5.00             55\n",
            "44            5.10             83\n",
            "45            4.11             45\n",
            "46            5.00             45\n",
            "47            5.00             55\n",
            "48            5.30             68\n",
            "49            5.20             45\n",
            "50            5.40             54\n",
            "51            5.00             50\n",
            "52            5.60             68\n",
            "53            6.10             80\n",
            "54            5.75             63\n",
            "55            5.60             60\n",
            "56            5.20             68\n",
            "57            5.10             65\n",
            "0     M\n",
            "1     F\n",
            "2     F\n",
            "3     M\n",
            "4     M\n",
            "5     F\n",
            "6     F\n",
            "7     M\n",
            "8     M\n",
            "9     M\n",
            "10    F\n",
            "11    M\n",
            "12    M\n",
            "13    M\n",
            "14    M\n",
            "15    F\n",
            "16    F\n",
            "17    M\n",
            "18    F\n",
            "19    F\n",
            "20    M\n",
            "21    M\n",
            "22    M\n",
            "23    F\n",
            "24    M\n",
            "25    F\n",
            "26    F\n",
            "27    F\n",
            "28    F\n",
            "29    F\n",
            "30    M\n",
            "31    F\n",
            "32    F\n",
            "33    F\n",
            "34    M\n",
            "35    F\n",
            "36    M\n",
            "37    F\n",
            "38    F\n",
            "39    M\n",
            "40    F\n",
            "41    F\n",
            "42    M\n",
            "43    F\n",
            "44    M\n",
            "45    F\n",
            "46    F\n",
            "47    F\n",
            "48    F\n",
            "49    F\n",
            "50    F\n",
            "51    M\n",
            "52    M\n",
            "53    M\n",
            "54    M\n",
            "55    M\n",
            "56    F\n",
            "57    F\n",
            "Name: Gender, dtype: object\n"
          ]
        }
      ],
      "source": [
        "x=df.iloc[:,2:4]\n",
        "y=df.iloc[:,4]\n",
        "print(x)\n",
        "print(y)"
      ]
    },
    {
      "cell_type": "code",
      "execution_count": 34,
      "id": "b1568ef3",
      "metadata": {
        "colab": {
          "base_uri": "https://localhost:8080/"
        },
        "id": "b1568ef3",
        "outputId": "77e77356-16cc-4065-a49c-7cfd65957402"
      },
      "outputs": [
        {
          "name": "stdout",
          "output_type": "stream",
          "text": [
            "('Training Data Input Shape:', (46, 2))\n",
            "('Training Data Output Shape:', (46,))\n",
            "('Test Data Input Shape:', (12, 2))\n",
            "('Test Data Output Shape:', (12,))\n"
          ]
        }
      ],
      "source": [
        "from sklearn.model_selection import train_test_split\n",
        "\n",
        "x_train, x_test, y_train, y_test = train_test_split(x,y,random_state = 71,test_size = 0.2 )\n",
        "print((\"Training Data Input Shape:\",x_train.shape))\n",
        "print((\"Training Data Output Shape:\",y_train.shape))\n",
        "print((\"Test Data Input Shape:\",x_test.shape))\n",
        "print((\"Test Data Output Shape:\",y_test.shape))"
      ]
    },
    {
      "cell_type": "markdown",
      "id": "adeed571",
      "metadata": {
        "id": "adeed571"
      },
      "source": [
        "## Step 2: Build the MLP Model\n",
        "\n",
        "--> Import MLPClassifier from sklearn.neural_network module\n",
        "\n",
        "--> Multilayer Perceptron Classifier\n",
        "\n",
        "--> Some Hyper Parameters:\n",
        "\n",
        "    * max_iter - Maximum number of iterations. Default is 200.\n",
        "    \n",
        "    * hidden_layer_sizes - Determines the number of hidden layers and number of neurons in each layer. Default is (100, ) i.e., 1 hidden layer with 100 neurons.\n",
        "    \n",
        "    * activation - Activation function for the hidden layers {'identity', 'logistic', 'tanh', 'relu'}. Default is 'relu'.\n",
        "    \n",
        "    * solver - The solver for weight optimization {'lbfgs', 'sgd', 'adam'}. Default is 'adam'.\n",
        "    \n",
        "    * batch_size - Size of minibatches for stochostic optimizers.\n",
        "    \n",
        "    * learning_rate - Learning rate schedule for weight update {'constant', 'invscaling', 'adaptive}. Default is 'constant'.\n",
        "    \n",
        "    * learning_rate_init - The initial learning rate. Default is 0.001.\n",
        "    \n",
        "    * momentum - Momentum for gradient decent update {0 - 1}. Defult is 0.9.\n",
        "    \n",
        "--> fit(x_train, y_train) method can be used to build the model.\n"
      ]
    },
    {
      "cell_type": "code",
      "execution_count": 35,
      "id": "cr9Ockf1jxf7",
      "metadata": {
        "id": "cr9Ockf1jxf7"
      },
      "outputs": [],
      "source": [
        "from sklearn.neural_network import MLPClassifier"
      ]
    },
    {
      "cell_type": "code",
      "execution_count": 36,
      "id": "fe5998e4",
      "metadata": {
        "colab": {
          "base_uri": "https://localhost:8080/",
          "height": 129
        },
        "id": "fe5998e4",
        "outputId": "931c0944-c0e0-4e5a-e38a-4e0fb749488c"
      },
      "outputs": [
        {
          "name": "stderr",
          "output_type": "stream",
          "text": [
            "c:\\ProgramData\\Anaconda3\\lib\\site-packages\\sklearn\\neural_network\\_multilayer_perceptron.py:696: ConvergenceWarning: Stochastic Optimizer: Maximum iterations (100) reached and the optimization hasn't converged yet.\n",
            "  ConvergenceWarning,\n"
          ]
        },
        {
          "data": {
            "text/plain": [
              "MLPClassifier(max_iter=100)"
            ]
          },
          "execution_count": 36,
          "metadata": {},
          "output_type": "execute_result"
        }
      ],
      "source": [
        "# MLP with 100 iterations and one hidden layer with 100 default nodes.\n",
        "model1 = MLPClassifier(max_iter = 100, hidden_layer_sizes = (100, ))\n",
        "model1.fit(x_train, y_train)"
      ]
    },
    {
      "cell_type": "markdown",
      "id": "3d2eb8cf",
      "metadata": {
        "id": "3d2eb8cf"
      },
      "source": [
        "## Step 3: Evaluate the model performance\n",
        "\n",
        "--> Import accuracy_score function from sklearn.metrics\n",
        "\n",
        "--> Check for any overfitting"
      ]
    },
    {
      "cell_type": "code",
      "execution_count": 37,
      "id": "93be2c18",
      "metadata": {
        "colab": {
          "base_uri": "https://localhost:8080/"
        },
        "id": "93be2c18",
        "outputId": "f5a3b489-10c2-432b-baff-3d72eeaa4760"
      },
      "outputs": [
        {
          "name": "stdout",
          "output_type": "stream",
          "text": [
            "Training Accuracy:  0.7608695652173914\n",
            "Testing Accuracy:  0.8333333333333334\n"
          ]
        }
      ],
      "source": [
        "from sklearn.metrics import accuracy_score\n",
        "\n",
        "print(\"Training Accuracy: \", accuracy_score(y_train, model1.predict(x_train)))\n",
        "print(\"Testing Accuracy: \", accuracy_score(y_test, model1.predict(x_test)))"
      ]
    },
    {
      "cell_type": "markdown",
      "id": "9f7ca313",
      "metadata": {
        "id": "9f7ca313"
      },
      "source": [
        "## Step 4: Fine tune the model performance by  channging hyper parammeter values\n",
        "\n",
        "--> Check for any overfitting"
      ]
    },
    {
      "cell_type": "code",
      "execution_count": 38,
      "id": "a7dc2de0",
      "metadata": {
        "colab": {
          "base_uri": "https://localhost:8080/"
        },
        "id": "a7dc2de0",
        "outputId": "658734db-5c1d-488c-d428-70a7f9048bf2"
      },
      "outputs": [
        {
          "name": "stdout",
          "output_type": "stream",
          "text": [
            "Training Accuracy:  0.45652173913043476\n",
            "Testing Accuracy:  0.4166666666666667\n"
          ]
        }
      ],
      "source": [
        "# MLP with 100 iterations and two hidden layers with 100 and 20 nodes respectively.\n",
        "model2 = MLPClassifier(max_iter = 100, hidden_layer_sizes = (100, 20))\n",
        "model2.fit(x_train, y_train)\n",
        "\n",
        "print(\"Training Accuracy: \", accuracy_score(y_train, model2.predict(x_train)))\n",
        "print(\"Testing Accuracy: \", accuracy_score(y_test, model2.predict(x_test)))"
      ]
    },
    {
      "cell_type": "code",
      "execution_count": 39,
      "id": "8dae23e0",
      "metadata": {
        "colab": {
          "base_uri": "https://localhost:8080/"
        },
        "id": "8dae23e0",
        "outputId": "11baf159-0eac-482e-c68a-f2ce6488b537"
      },
      "outputs": [
        {
          "name": "stdout",
          "output_type": "stream",
          "text": [
            "Training Accuracy:  0.8043478260869565\n",
            "Testing Accuracy:  0.8333333333333334\n"
          ]
        },
        {
          "name": "stderr",
          "output_type": "stream",
          "text": [
            "c:\\ProgramData\\Anaconda3\\lib\\site-packages\\sklearn\\neural_network\\_multilayer_perceptron.py:696: ConvergenceWarning: Stochastic Optimizer: Maximum iterations (100) reached and the optimization hasn't converged yet.\n",
            "  ConvergenceWarning,\n"
          ]
        }
      ],
      "source": [
        "# MLP with 100 iterations, two hidden layers with 100 and 20 nodes respectively and tanh activation function.\n",
        "\n",
        "model3 = MLPClassifier(max_iter = 100, hidden_layer_sizes = (100, 20), activation=\"tanh\")\n",
        "model3.fit(x_train, y_train)\n",
        "\n",
        "print(\"Training Accuracy: \", accuracy_score(y_train, model3.predict(x_train)))\n",
        "print(\"Testing Accuracy: \", accuracy_score(y_test, model3.predict(x_test)))"
      ]
    },
    {
      "cell_type": "code",
      "execution_count": 40,
      "id": "c8f901a6",
      "metadata": {},
      "outputs": [
        {
          "name": "stdout",
          "output_type": "stream",
          "text": [
            "Number of parameters: 2200\n"
          ]
        }
      ],
      "source": [
        "print(f\"Number of parameters: {model3.coefs_[0].size + model3.coefs_[1].size}\")"
      ]
    },
    {
      "cell_type": "markdown",
      "id": "4bf39c0a",
      "metadata": {},
      "source": [
        "<h2 style = \"color:Brown;display:inline\">Conclusion:   </h2>\n",
        "<h3 style = \"display:inline\">\n",
        "Hence, I implemented a Multi-layer Perceptron (MLP) classifier using the MLPClassifier() from the sklearn.neural_network module.\n",
        "</h3>"
      ]
    }
  ],
  "metadata": {
    "colab": {
      "provenance": []
    },
    "kernelspec": {
      "display_name": "Python 3",
      "language": "python",
      "name": "python3"
    },
    "language_info": {
      "codemirror_mode": {
        "name": "ipython",
        "version": 3
      },
      "file_extension": ".py",
      "mimetype": "text/x-python",
      "name": "python",
      "nbconvert_exporter": "python",
      "pygments_lexer": "ipython3",
      "version": "3.7.3"
    }
  },
  "nbformat": 4,
  "nbformat_minor": 5
}
