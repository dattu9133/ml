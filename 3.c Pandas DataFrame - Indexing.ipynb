{
 "cells": [
  {
   "cell_type": "markdown",
   "metadata": {},
   "source": [
    "# <p style=\"text-align: center;\">2c Pandas DataFrame-Indexing</p>"
   ]
  },
  {
   "cell_type": "markdown",
   "metadata": {},
   "source": [
    "<h2 style = \"color:Brown;display:inline\">Aim:   </h2>\n",
    "<h3 style = \"display:inline\">\n",
    "To demonstrate python libraries such as Pandas DataFrame.\n",
    "</h3>"
   ]
  },
  {
   "cell_type": "markdown",
   "metadata": {},
   "source": [
    "<h2 style = \"color:Green\">Indexing</h2>\n",
    "\n",
    "* To access a row or column of the DataFrame\n",
    "\n",
    "\n",
    "* Types\n",
    "    1. Label Based Indexing\n",
    "    2. Location(Position) Based Indexing\n",
    "    \n",
    "     Note that all Indexing operations returns selected row or column as a Series."
   ]
  },
  {
   "cell_type": "markdown",
   "metadata": {},
   "source": [
    "<h3 style = \"color:Blue\">1. Label Based Indexing</h3>\n",
    "\n",
    "* Differenet Label Based Indexing Operations\n",
    "\n",
    "    1. Select a row by label: **Series = DataFrame.loc[row_label]**\n",
    "    \n",
    "    2. Select a column by label\n",
    "    \n",
    "        a) Select a column by label: **Series = DataFrame[col_label]**        \n",
    "        b) Select a column by label with loc method: **Series = DataFrame.loc[: , col_label]**"
   ]
  },
  {
   "cell_type": "code",
   "execution_count": 1,
   "metadata": {},
   "outputs": [],
   "source": [
    "# Import pandas\n",
    "import pandas as pd"
   ]
  },
  {
   "cell_type": "code",
   "execution_count": 17,
   "metadata": {},
   "outputs": [
    {
     "name": "stdout",
     "output_type": "stream",
     "text": [
      "      Name  Age  Salary\n",
      "A    Alice   25    5000\n",
      "B      Bob   30    6000\n",
      "C  Charlie   35    5500\n",
      "D    David   40    7000\n"
     ]
    }
   ],
   "source": [
    "# Create a dataFrame from a dictionary of lists with some row labels (We can use dataframe's index argument to set labels)\n",
    "data = {'Name': ['Alice', 'Bob', 'Charlie', 'David'],\n",
    "        'Age': [25, 30, 35, 40],\n",
    "        'Salary': [5000, 6000, 5500, 7000]}\n",
    "\n",
    "df = pd.DataFrame(data)\n",
    "df.index=['A', 'B', 'C', 'D']\n",
    "print(df)"
   ]
  },
  {
   "cell_type": "code",
   "execution_count": 3,
   "metadata": {},
   "outputs": [
    {
     "name": "stdout",
     "output_type": "stream",
     "text": [
      "Selected Row:\n",
      "Name       Bob\n",
      "Age         30\n",
      "Salary    6000\n",
      "Name: B, dtype: object\n",
      "\n"
     ]
    }
   ],
   "source": [
    "# Select a row by label\n",
    "selected_row = df.loc['B']  # Selects the row with label 'B'\n",
    "\n",
    "print(\"Selected Row:\")\n",
    "print(selected_row)\n",
    "print()"
   ]
  },
  {
   "cell_type": "code",
   "execution_count": 16,
   "metadata": {},
   "outputs": [
    {
     "name": "stdout",
     "output_type": "stream",
     "text": [
      "Selected Column by label 'Name':\n",
      "A      Alice\n",
      "B        Bob\n",
      "C    Charlie\n",
      "D      David\n",
      "Name: Name, dtype: object\n",
      "\n",
      "Selected Column by label 'Age' with loc method:\n",
      "A    25\n",
      "B    30\n",
      "C    35\n",
      "D    40\n",
      "Name: Age, dtype: int64\n",
      "\n"
     ]
    }
   ],
   "source": [
    "# Select a column by a label\n",
    "selected_column_a = df['Name']  # Selects the column with label 'Name'\n",
    "\n",
    "# Selecting a column by label with loc mehod\n",
    "selected_column_b = df.loc[:, 'Age']  # Same operation using loc method\n",
    "\n",
    "print(\"Selected Column by label 'Name':\")\n",
    "print(selected_column_a)\n",
    "print()\n",
    "\n",
    "print(\"Selected Column by label 'Age' with loc method:\")\n",
    "print(selected_column_b)\n",
    "print()\n"
   ]
  },
  {
   "cell_type": "code",
   "execution_count": 21,
   "metadata": {},
   "outputs": [
    {
     "name": "stdout",
     "output_type": "stream",
     "text": [
      "Selected Columns as a new DataFrame:\n",
      "      Name  Salary\n",
      "A    Alice    5000\n",
      "B      Bob    6000\n",
      "C  Charlie    5500\n",
      "D    David    7000 \n",
      "\n",
      "<class 'pandas.core.frame.DataFrame'>\n"
     ]
    }
   ],
   "source": [
    "# Select multiple columns as a new dataframe\n",
    "selected_columns = df[['Name', 'Salary']]  # Selects columns 'Name' and 'Salary' as a new DataFrame\n",
    "\n",
    "print(\"Selected Columns as a new DataFrame:\")\n",
    "print(selected_columns,'\\n')\n",
    "print(type(selected_columns))"
   ]
  },
  {
   "cell_type": "code",
   "execution_count": 7,
   "metadata": {},
   "outputs": [
    {
     "name": "stdout",
     "output_type": "stream",
     "text": [
      "Rows where salary is greater than 5500:\n",
      "    Name  Age  Salary\n",
      "B    Bob   30    6000\n",
      "D  David   40    7000\n"
     ]
    }
   ],
   "source": [
    "# Select the rows where salary is greater then 5500\n",
    "selected_rows_salary_gt_5500 = df[df['Salary'] > 5500]\n",
    "\n",
    "print(\"Rows where salary is greater than 5500:\")\n",
    "print(selected_rows_salary_gt_5500)"
   ]
  },
  {
   "cell_type": "markdown",
   "metadata": {},
   "source": [
    "<h3 style = \"color:Blue\">2. Location(Position) Based Indexing</h3>\n",
    "\n",
    "* Location Based Indexing Operations\n",
    "\n",
    "    1. Select a row by integer location: **Series = DataFrame.iloc[row_location]**\n",
    "    2. Select a column by integer location **Series = DataFrame.iloc[: , col_location]**"
   ]
  },
  {
   "cell_type": "code",
   "execution_count": 8,
   "metadata": {},
   "outputs": [
    {
     "name": "stdout",
     "output_type": "stream",
     "text": [
      "Selected Row:\n",
      "Name       Bob\n",
      "Age         30\n",
      "Salary    6000\n",
      "Name: B, dtype: object\n",
      "\n"
     ]
    }
   ],
   "source": [
    "# Select a row by position(integer location)\n",
    "selected_row = df.iloc[1]  # Selects the row at position 1 (second row)\n",
    "\n",
    "print(\"Selected Row:\")\n",
    "print(selected_row)\n",
    "print()\n"
   ]
  },
  {
   "cell_type": "code",
   "execution_count": 23,
   "metadata": {},
   "outputs": [
    {
     "name": "stdout",
     "output_type": "stream",
     "text": [
      "Selected Column by position (integer location) - First Column:\n",
      "A      Alice\n",
      "B        Bob\n",
      "C    Charlie\n",
      "D      David\n",
      "Name: Name, dtype: object\n",
      "\n",
      "Selected Column by position (integer location) - Third Column:\n",
      "A    5000\n",
      "B    6000\n",
      "C    5500\n",
      "D    7000\n",
      "Name: Salary, dtype: int64\n",
      "\n"
     ]
    }
   ],
   "source": [
    "# Select a column by position(integer location)\n",
    "selected_column_a = df.iloc[:, 0]  # Selects the first column\n",
    "selected_column_b = df.iloc[:, 2]  # Selects the third column\n",
    "\n",
    "print(\"Selected Column by position (integer location) - First Column:\")\n",
    "print(selected_column_a)\n",
    "print()\n",
    "\n",
    "print(\"Selected Column by position (integer location) - Third Column:\")\n",
    "print(selected_column_b)\n",
    "print()"
   ]
  },
  {
   "cell_type": "code",
   "execution_count": 10,
   "metadata": {},
   "outputs": [
    {
     "name": "stdout",
     "output_type": "stream",
     "text": [
      "Selected Columns:\n",
      "      Name  Salary\n",
      "A    Alice    5000\n",
      "B      Bob    6000\n",
      "C  Charlie    5500\n",
      "D    David    7000\n"
     ]
    }
   ],
   "source": [
    "# Select multiple columns\n",
    "selected_columns = df.iloc[:, [0, 2]]  # Selects the first and third columns\n",
    "\n",
    "print(\"Selected Columns:\")\n",
    "print(selected_columns)"
   ]
  },
  {
   "cell_type": "markdown",
   "metadata": {},
   "source": [
    "<h2 style = \"color:Brown;display:inline\">Conclusion:   </h2>\n",
    "<h3 style = \"display:inline\">\n",
    "Hence, I’ve understood effectively handle inderxing in Pandas DataFrame. \n",
    "</h3>"
   ]
  }
 ],
 "metadata": {
  "kernelspec": {
   "display_name": "Python 3",
   "language": "python",
   "name": "python3"
  },
  "language_info": {
   "codemirror_mode": {
    "name": "ipython",
    "version": 3
   },
   "file_extension": ".py",
   "mimetype": "text/x-python",
   "name": "python",
   "nbconvert_exporter": "python",
   "pygments_lexer": "ipython3",
   "version": "3.7.3"
  }
 },
 "nbformat": 4,
 "nbformat_minor": 4
}
